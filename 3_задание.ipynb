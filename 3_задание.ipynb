{
  "nbformat": 4,
  "nbformat_minor": 0,
  "metadata": {
    "colab": {
      "provenance": [],
      "authorship_tag": "ABX9TyMjrV5LGjZX3r9tJAWU+tcr",
      "include_colab_link": true
    },
    "kernelspec": {
      "name": "python3",
      "display_name": "Python 3"
    },
    "language_info": {
      "name": "python"
    }
  },
  "cells": [
    {
      "cell_type": "markdown",
      "metadata": {
        "id": "view-in-github",
        "colab_type": "text"
      },
      "source": [
        "<a href=\"https://colab.research.google.com/github/Jek5231/Jek5231/blob/main/3_%D0%B7%D0%B0%D0%B4%D0%B0%D0%BD%D0%B8%D0%B5.ipynb\" target=\"_parent\"><img src=\"https://colab.research.google.com/assets/colab-badge.svg\" alt=\"Open In Colab\"/></a>"
      ]
    },
    {
      "cell_type": "code",
      "execution_count": null,
      "metadata": {
        "colab": {
          "base_uri": "https://localhost:8080/"
        },
        "id": "gCCsA04uuvyK",
        "outputId": "04a52802-f824-49e4-ceb1-cb67874bf28e"
      },
      "outputs": [
        {
          "output_type": "stream",
          "name": "stdout",
          "text": [
            "tenure              0\n",
            "PhoneService        0\n",
            "Contract            0\n",
            "PaperlessBilling    0\n",
            "PaymentMethod       0\n",
            "MonthlyCharges      0\n",
            "TotalCharges        0\n",
            "Churn               0\n",
            "dtype: int64\n",
            "Accuracy: 0.7814052519517388\n",
            "Classification Report:\n",
            "               precision    recall  f1-score   support\n",
            "\n",
            "          No       0.83      0.88      0.86      1036\n",
            "         Yes       0.60      0.51      0.55       373\n",
            "\n",
            "    accuracy                           0.78      1409\n",
            "   macro avg       0.72      0.70      0.71      1409\n",
            "weighted avg       0.77      0.78      0.78      1409\n",
            "\n"
          ]
        }
      ],
      "source": [
        "import pandas as pd\n",
        "from sklearn.model_selection import train_test_split\n",
        "from sklearn.preprocessing import StandardScaler, OneHotEncoder\n",
        "from sklearn.compose import ColumnTransformer\n",
        "from sklearn.pipeline import Pipeline\n",
        "from sklearn.ensemble import RandomForestClassifier\n",
        "from sklearn.metrics import classification_report, accuracy_score\n",
        "\n",
        "#Загрузка данных\n",
        "data = pd.read_csv('churn_data.csv')\n",
        "\n",
        "#Удаление столбца customerID, так как он не несет полезной информации\n",
        "data = data.drop(columns=['customerID'])\n",
        "\n",
        "#Проверка на пропущенные значения\n",
        "print(data.isnull().sum())\n",
        "\n",
        "#Очистка столбца TotalCharges от нечисловых символов\n",
        "data['TotalCharges'] = pd.to_numeric(data['TotalCharges'].str.replace(' ', ''), errors='coerce')\n",
        "\n",
        "#Заполнение пропущенных значений в столбце TotalCharges средним значением\n",
        "data['TotalCharges'] = data['TotalCharges'].fillna(data['TotalCharges'].mean())\n",
        "\n",
        "#Разделение признаков и целевой переменной\n",
        "X = data.drop(columns=['Churn'])\n",
        "y = data['Churn']\n",
        "\n",
        "#Преобразование категориальных признаков в числовые\n",
        "categorical_features = X.select_dtypes(include=['object']).columns\n",
        "numerical_features = X.select_dtypes(exclude=['object']).columns\n",
        "\n",
        "#Создание пайплайна для предобработки данных\n",
        "preprocessor = ColumnTransformer(\n",
        "    transformers=[\n",
        "        ('num', StandardScaler(), numerical_features),\n",
        "        ('cat', OneHotEncoder(), categorical_features)\n",
        "    ])\n",
        "\n",
        "#Разделение данных на обучающую и тестовую выборки\n",
        "X_train, X_test, y_train, y_test = train_test_split(X, y, test_size=0.2, random_state=42)\n",
        "\n",
        "#Выбор модели и обучение\n",
        "model = Pipeline(steps=[\n",
        "    ('preprocessor', preprocessor),\n",
        "    ('classifier', RandomForestClassifier(random_state=42))\n",
        "])\n",
        "#Обучаем\n",
        "model.fit(X_train, y_train)\n",
        "\n",
        "#Оценка модели\n",
        "y_pred = model.predict(X_test)\n",
        "print(\"Accuracy:\", accuracy_score(y_test, y_pred))\n",
        "print(\"Classification Report:\\n\", classification_report(y_test, y_pred))"
      ]
    }
  ]
}